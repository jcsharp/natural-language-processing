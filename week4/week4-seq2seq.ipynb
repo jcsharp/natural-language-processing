{
 "cells": [
  {
   "cell_type": "markdown",
   "metadata": {},
   "source": [
    "# Learn to calculate with seq2seq model\n",
    "\n",
    "In this assignment, you will learn how to use neural networks to solve sequence-to-sequence prediction tasks. Seq2Seq models are very popular these days because they achieve great results in Machine Translation, Text Summarization, Conversational Modeling and more.\n",
    "\n",
    "Using sequence-to-sequence modeling you are going to build a calculator for evaluating arithmetic expressions, by taking an equation as an input to the neural network and producing an answer as it's output.\n",
    "\n",
    "The resulting solution for this problem will be based on state-of-the-art approaches for sequence-to-sequence learning and you should be able to easily adapt it to solve other tasks. However, if you want to train your own machine translation system or intellectual chat bot, it would be useful to have access to compute resources like GPU, and be patient, because training of such systems is usually time consuming. \n",
    "\n",
    "### Libraries\n",
    "\n",
    "For this task you will need the following libraries:\n",
    " - [TensorFlow](https://www.tensorflow.org) — an open-source software library for Machine Intelligence.\n",
    " - [scikit-learn](http://scikit-learn.org/stable/index.html) — a tool for data mining and data analysis.\n",
    " \n",
    "If you have never worked with TensorFlow, you will probably want to read some tutorials during your work on this assignment, e.g. [Neural Machine Translation](https://www.tensorflow.org/tutorials/seq2seq) tutorial deals with very similar task and can explain some concepts to you. "
   ]
  },
  {
   "cell_type": "markdown",
   "metadata": {},
   "source": [
    "### Data\n",
    "\n",
    "One benefit of this task is that you don't need to download any data — you will generate it on your own! We will use two operators (addition and subtraction) and work with positive integer numbers in some range. Here are examples of correct inputs and outputs:\n",
    "\n",
    "    Input: '1+2'\n",
    "    Output: '3'\n",
    "    \n",
    "    Input: '0-99'\n",
    "    Output: '-99'\n",
    "\n",
    "*Note, that there are no spaces between operators and operands.*\n",
    "\n",
    "\n",
    "Now you need to implement the function *generate_equations*, which will be used to generate the data."
   ]
  },
  {
   "cell_type": "code",
   "execution_count": 1,
   "metadata": {},
   "outputs": [],
   "source": [
    "import random"
   ]
  },
  {
   "cell_type": "code",
   "execution_count": 2,
   "metadata": {},
   "outputs": [],
   "source": [
    "def generate_equations(allowed_operators, dataset_size, min_value, max_value):\n",
    "    \"\"\"Generates pairs of equations and solutions to them.\n",
    "    \n",
    "       Each equation has a form of two integers with an operator in between.\n",
    "       Each solution is an integer with the result of the operaion.\n",
    "    \n",
    "        allowed_operators: list of strings, allowed operators.\n",
    "        dataset_size: an integer, number of equations to be generated.\n",
    "        min_value: an integer, min value of each operand.\n",
    "        max_value: an integer, max value of each operand.\n",
    "\n",
    "        result: a list of tuples of strings (equation, solution).\n",
    "    \"\"\"\n",
    "    sample = []\n",
    "    for _ in range(dataset_size):\n",
    "        a = random.randint(min_value, max_value)\n",
    "        b = random.randint(min_value, max_value)\n",
    "        op = random.choice(allowed_operators)\n",
    "        eq = str(a) + op + str(b)\n",
    "        sol = eval(eq)\n",
    "        sample.append((eq, str(sol)))\n",
    "\n",
    "    return sample"
   ]
  },
  {
   "cell_type": "markdown",
   "metadata": {},
   "source": [
    "To check the correctness of your implementation, use *test_generate_equations* function:"
   ]
  },
  {
   "cell_type": "code",
   "execution_count": 3,
   "metadata": {},
   "outputs": [],
   "source": [
    "def test_generate_equations():\n",
    "    allowed_operators = ['+', '-']\n",
    "    dataset_size = 10\n",
    "    for (input_, output_) in generate_equations(allowed_operators, dataset_size, 0, 100):\n",
    "        if not (type(input_) is str and type(output_) is str):\n",
    "            return \"Both parts should be strings.\"\n",
    "        if eval(input_) != int(output_):\n",
    "            return \"The (equation: {!r}, solution: {!r}) pair is incorrect.\".format(input_, output_)\n",
    "    return \"Tests passed.\""
   ]
  },
  {
   "cell_type": "code",
   "execution_count": 4,
   "metadata": {},
   "outputs": [
    {
     "name": "stdout",
     "output_type": "stream",
     "text": [
      "Tests passed.\n"
     ]
    }
   ],
   "source": [
    "print(test_generate_equations())"
   ]
  },
  {
   "cell_type": "markdown",
   "metadata": {},
   "source": [
    "Finally, we are ready to generate the train and test data for the neural network:"
   ]
  },
  {
   "cell_type": "code",
   "execution_count": 5,
   "metadata": {},
   "outputs": [],
   "source": [
    "from sklearn.model_selection import train_test_split"
   ]
  },
  {
   "cell_type": "code",
   "execution_count": 6,
   "metadata": {},
   "outputs": [],
   "source": [
    "allowed_operators = ['+', '-']\n",
    "dataset_size = 100000\n",
    "data = generate_equations(allowed_operators, dataset_size, min_value=0, max_value=9999)\n",
    "\n",
    "train_set, test_set = train_test_split(data, test_size=0.2, random_state=42)"
   ]
  },
  {
   "cell_type": "markdown",
   "metadata": {},
   "source": [
    "## Prepare data for the neural network\n",
    "\n",
    "The next stage of data preparation is creating mappings of the characters to their indices in some vocabulary. Since in our task we already know which symbols will appear in the inputs and outputs, generating the vocabulary is a simple step.\n",
    "\n",
    "#### How to create dictionaries for other task\n",
    "\n",
    "First of all, you need to understand what is the basic unit of the sequence in your task. In our case, we operate on symbols and the basic unit is a symbol. The number of symbols is small, so we don't need to think about filtering/normalization steps. However, in other tasks, the basic unit is often a word, and in this case the mapping would be *word $\\to$ integer*. The number of words might be huge, so it would be reasonable to filter them, for example, by frequency and leave only the frequent ones. Other strategies that your should consider are: data normalization (lowercasing, tokenization, how to consider punctuation marks), separate vocabulary for input and for output (e.g. for machine translation), some specifics of the task."
   ]
  },
  {
   "cell_type": "code",
   "execution_count": 7,
   "metadata": {},
   "outputs": [],
   "source": [
    "word2id = {symbol:i for i, symbol in enumerate('^$#+-1234567890')}\n",
    "id2word = {i:symbol for symbol, i in word2id.items()}"
   ]
  },
  {
   "cell_type": "markdown",
   "metadata": {},
   "source": [
    "#### Special symbols"
   ]
  },
  {
   "cell_type": "code",
   "execution_count": 8,
   "metadata": {},
   "outputs": [],
   "source": [
    "start_symbol = '^'\n",
    "end_symbol = '$'\n",
    "padding_symbol = '#'"
   ]
  },
  {
   "cell_type": "markdown",
   "metadata": {},
   "source": [
    "You could notice that we have added 3 special symbols: '^', '\\$' and '#':\n",
    "- '^' symbol will be passed to the network to indicate the beginning of the decoding procedure. We will discuss this one later in more details.\n",
    "- '\\$' symbol will be used to indicate the *end of a string*, both for input and output sequences. \n",
    "- '#' symbol will be used as a *padding* character to make lengths of all strings equal within one training batch.\n",
    "\n",
    "People have a bit different habits when it comes to special symbols in encoder-decoder networks, so don't get too much confused if you come across other variants in tutorials you read. "
   ]
  },
  {
   "cell_type": "markdown",
   "metadata": {},
   "source": [
    "#### Padding"
   ]
  },
  {
   "cell_type": "markdown",
   "metadata": {},
   "source": [
    "When vocabularies are ready, we need to be able to convert a sentence to a list of vocabulary word indices and back. At the same time, let's care about padding. We are going to preprocess each sequence from the input (and output ground truth) in such a way that:\n",
    "- it has a predefined length *padded_len*\n",
    "- it is probably cut off or padded with the *padding symbol* '#'\n",
    "- it *always* ends with the *end symbol* '$'\n",
    "\n",
    "We will treat the original characters of the sequence **and the end symbol** as the valid part of the input. We will store *the actual length* of the sequence, which includes the end symbol, but does not include the padding symbols. "
   ]
  },
  {
   "cell_type": "markdown",
   "metadata": {},
   "source": [
    " Now you need to implement the function *sentence_to_ids* that does the described job. "
   ]
  },
  {
   "cell_type": "code",
   "execution_count": 84,
   "metadata": {},
   "outputs": [],
   "source": [
    "def sentence_to_ids(sentence, word2id, padded_len):\n",
    "    \"\"\" Converts a sequence of symbols to a padded sequence of their ids.\n",
    "    \n",
    "      sentence: a string, input/output sequence of symbols.\n",
    "      word2id: a dict, a mapping from original symbols to ids.\n",
    "      padded_len: an integer, a desirable length of the sequence.\n",
    "\n",
    "      result: a tuple of (a list of ids, an actual length of sentence).\n",
    "    \"\"\"\n",
    "    \n",
    "    pads = [word2id[padding_symbol]] * max(0, padded_len - len(sentence) - 1)\n",
    "    s = sentence[:padded_len-1] + end_symbol\n",
    "    sent_ids = [word2id[c] for c in s] + pads\n",
    "    sent_len = len(s)\n",
    "    \n",
    "    return sent_ids, sent_len"
   ]
  },
  {
   "cell_type": "markdown",
   "metadata": {},
   "source": [
    "Check that your implementation is correct:"
   ]
  },
  {
   "cell_type": "code",
   "execution_count": 85,
   "metadata": {},
   "outputs": [],
   "source": [
    "def test_sentence_to_ids():\n",
    "    sentences = [(\"123+123\", 7), (\"123+123\", 8), (\"123+123\", 10)]\n",
    "    expected_output = [([5, 6, 7, 3, 5, 6, 1], 7), \n",
    "                       ([5, 6, 7, 3, 5, 6, 7, 1], 8), \n",
    "                       ([5, 6, 7, 3, 5, 6, 7, 1, 2, 2], 8)] \n",
    "    for (sentence, padded_len), (sentence_ids, expected_length) in zip(sentences, expected_output):\n",
    "        output, length = sentence_to_ids(sentence, word2id, padded_len)\n",
    "        if output != sentence_ids:\n",
    "            return(\"Convertion of '{}' for padded_len={} to {} is incorrect.\".format(\n",
    "                sentence, padded_len, output))\n",
    "        if length != expected_length:\n",
    "            return(\"Convertion of '{}' for padded_len={} has incorrect actual length {}.\".format(\n",
    "                sentence, padded_len, length))\n",
    "    return(\"Tests passed.\")"
   ]
  },
  {
   "cell_type": "code",
   "execution_count": 86,
   "metadata": {},
   "outputs": [
    {
     "name": "stdout",
     "output_type": "stream",
     "text": [
      "Tests passed.\n"
     ]
    }
   ],
   "source": [
    "print(test_sentence_to_ids())"
   ]
  },
  {
   "cell_type": "markdown",
   "metadata": {},
   "source": [
    "We also need to be able to get back from indices to symbols:"
   ]
  },
  {
   "cell_type": "code",
   "execution_count": 12,
   "metadata": {},
   "outputs": [],
   "source": [
    "def ids_to_sentence(ids, id2word):\n",
    "    \"\"\" Converts a sequence of ids to a sequence of symbols.\n",
    "    \n",
    "          ids: a list, indices for the padded sequence.\n",
    "          id2word:  a dict, a mapping from ids to original symbols.\n",
    "\n",
    "          result: a list of symbols.\n",
    "    \"\"\"\n",
    " \n",
    "    return [id2word[i] for i in ids] "
   ]
  },
  {
   "cell_type": "code",
   "execution_count": 89,
   "metadata": {},
   "outputs": [],
   "source": [
    "def sentence_to_number(sentence):\n",
    "    s = ''.join(sentence)\n",
    "    return int(s[:s.find(end_symbol)])"
   ]
  },
  {
   "cell_type": "markdown",
   "metadata": {},
   "source": [
    "#### Generating batches"
   ]
  },
  {
   "cell_type": "markdown",
   "metadata": {},
   "source": [
    "The final step of data preparation is a function that transforms a batch of sentences to a list of lists of indices. "
   ]
  },
  {
   "cell_type": "code",
   "execution_count": 14,
   "metadata": {},
   "outputs": [],
   "source": [
    "def batch_to_ids(sentences, word2id, max_len):\n",
    "    \"\"\"Prepares batches of indices. \n",
    "    \n",
    "       Sequences are padded to match the longest sequence in the batch,\n",
    "       if it's longer than max_len, then max_len is used instead.\n",
    "\n",
    "        sentences: a list of strings, original sequences.\n",
    "        word2id: a dict, a mapping from original symbols to ids.\n",
    "        max_len: an integer, max len of sequences allowed.\n",
    "\n",
    "        result: a list of lists of ids, a list of actual lengths.\n",
    "    \"\"\"\n",
    "    \n",
    "    max_len_in_batch = min(max(len(s) for s in sentences) + 1, max_len)\n",
    "    batch_ids, batch_ids_len = [], []\n",
    "    for sentence in sentences:\n",
    "        ids, ids_len = sentence_to_ids(sentence, word2id, max_len_in_batch)\n",
    "        batch_ids.append(ids)\n",
    "        batch_ids_len.append(ids_len)\n",
    "    return batch_ids, batch_ids_len"
   ]
  },
  {
   "cell_type": "markdown",
   "metadata": {},
   "source": [
    "The function *generate_batches* will help to generate batches with defined size from given samples."
   ]
  },
  {
   "cell_type": "code",
   "execution_count": 15,
   "metadata": {},
   "outputs": [],
   "source": [
    "def generate_batches(samples, batch_size=64):\n",
    "    X, Y = [], []\n",
    "    for i, (x, y) in enumerate(samples, 1):\n",
    "        X.append(x)\n",
    "        Y.append(y)\n",
    "        if i % batch_size == 0:\n",
    "            yield X, Y\n",
    "            X, Y = [], []\n",
    "    if X and Y:\n",
    "        yield X, Y"
   ]
  },
  {
   "cell_type": "markdown",
   "metadata": {},
   "source": [
    "To illustrate the result of the implemented functions, run the following cell:"
   ]
  },
  {
   "cell_type": "code",
   "execution_count": 16,
   "metadata": {},
   "outputs": [
    {
     "name": "stdout",
     "output_type": "stream",
     "text": [
      "Input: ('5803+1905', '7708')\n",
      "Ids: [[9, 12, 14, 7, 3, 5, 13, 14, 9, 1], [11, 11, 14, 12, 1, 2, 2, 2, 2, 2]]\n",
      "Sentences lengths: [10, 5]\n"
     ]
    }
   ],
   "source": [
    "sentences = train_set[0]\n",
    "ids, sent_lens = batch_to_ids(sentences, word2id, max_len=10)\n",
    "print('Input:', sentences)\n",
    "print('Ids: {}\\nSentences lengths: {}'.format(ids, sent_lens))"
   ]
  },
  {
   "cell_type": "markdown",
   "metadata": {},
   "source": [
    "## Encoder-Decoder architecture\n",
    "\n",
    "Encoder-Decoder is a successful architecture for Seq2Seq tasks with different lengths of input and output sequences. The main idea is to use two recurrent neural networks, where the first neural network *encodes* the input sequence into a real-valued vector and then the second neural network *decodes* this vector into the output sequence. While building the neural network, we will specify some particular characteristics of this architecture."
   ]
  },
  {
   "cell_type": "code",
   "execution_count": 17,
   "metadata": {},
   "outputs": [],
   "source": [
    "import tensorflow as tf"
   ]
  },
  {
   "cell_type": "markdown",
   "metadata": {},
   "source": [
    "Let us use TensorFlow building blocks to specify the network architecture."
   ]
  },
  {
   "cell_type": "code",
   "execution_count": 18,
   "metadata": {},
   "outputs": [],
   "source": [
    "class Seq2SeqModel(object):\n",
    "    pass"
   ]
  },
  {
   "cell_type": "markdown",
   "metadata": {},
   "source": [
    "First, we need to create [placeholders](https://www.tensorflow.org/api_guides/python/io_ops#Placeholders) to specify what data we are going to feed into the network during the execution time. For this task we will need:\n",
    " - *input_batch* — sequences of sentences (the shape will equal to [batch_size, max_sequence_len_in_batch]);\n",
    " - *input_batch_lengths* — lengths of not padded sequences (the shape equals to [batch_size]);\n",
    " - *ground_truth* — sequences of groundtruth (the shape will equal to [batch_size, max_sequence_len_in_batch]);\n",
    " - *ground_truth_lengths* — lengths of not padded groundtruth sequences (the shape equals to [batch_size]);\n",
    " - *dropout_ph* — dropout keep probability; this placeholder has a predifined value 1;\n",
    " - *learning_rate_ph* — learning rate."
   ]
  },
  {
   "cell_type": "code",
   "execution_count": 19,
   "metadata": {},
   "outputs": [],
   "source": [
    "def declare_placeholders(self):\n",
    "    \"\"\"Specifies placeholders for the model.\"\"\"\n",
    "    \n",
    "    # Placeholders for input and its actual lengths.\n",
    "    self.input_batch = tf.placeholder(shape=(None, None), dtype=tf.int32, name='input_batch')\n",
    "    self.input_batch_lengths = tf.placeholder(shape=(None, ), dtype=tf.int32, name='input_batch_lengths')\n",
    "    \n",
    "    # Placeholders for groundtruth and its actual lengths.\n",
    "    self.ground_truth = tf.placeholder(shape=(None, None), dtype=tf.int32, name='ground_truth')\n",
    "    self.ground_truth_lengths = tf.placeholder(shape=(None, ), dtype=tf.int32, name='ground_truth_lengths')\n",
    "        \n",
    "    self.dropout_ph = tf.placeholder_with_default(tf.cast(1.0, tf.float32), shape=[])\n",
    "    self.learning_rate_ph = tf.placeholder(dtype=tf.float32, shape=[])"
   ]
  },
  {
   "cell_type": "code",
   "execution_count": 20,
   "metadata": {},
   "outputs": [],
   "source": [
    "Seq2SeqModel.__declare_placeholders = classmethod(declare_placeholders)"
   ]
  },
  {
   "cell_type": "markdown",
   "metadata": {},
   "source": [
    "Now, let us specify the layers of the neural network. First, we need to prepare an embedding matrix. Since we use the same vocabulary for input and output, we need only one such matrix. For tasks with different vocabularies there would be multiple embedding layers.\n",
    "- Create embeddings matrix with [tf.Variable](https://www.tensorflow.org/api_docs/python/tf/Variable). Specify its name, type (tf.float32), and initialize with random values.\n",
    "- Perform [embeddings lookup](https://www.tensorflow.org/api_docs/python/tf/nn/embedding_lookup) for a given input batch."
   ]
  },
  {
   "cell_type": "code",
   "execution_count": 21,
   "metadata": {},
   "outputs": [],
   "source": [
    "def create_embeddings(self, vocab_size, embeddings_size):\n",
    "    \"\"\"Specifies embeddings layer and embeds an input batch.\"\"\"\n",
    "     \n",
    "    random_initializer = tf.random_uniform((vocab_size, embeddings_size), -1.0, 1.0)\n",
    "    self.embeddings = tf.Variable(random_initializer, dtype=tf.float32, name='embeddings_matrix')\n",
    "    \n",
    "    # Perform embeddings lookup for self.input_batch. \n",
    "    self.input_batch_embedded = tf.nn.embedding_lookup(self.embeddings, self.input_batch)"
   ]
  },
  {
   "cell_type": "code",
   "execution_count": 22,
   "metadata": {},
   "outputs": [],
   "source": [
    "Seq2SeqModel.__create_embeddings = classmethod(create_embeddings)"
   ]
  },
  {
   "cell_type": "markdown",
   "metadata": {},
   "source": [
    "#### Encoder\n",
    "\n",
    "The first RNN of the current architecture is called an *encoder* and serves for encoding an input sequence to a real-valued vector. Input of this RNN is an embedded input batch. Since sentences in the same batch could have different actual lengths, we also provide input lengths to avoid unnecessary computations. The final encoder state will be passed to the second RNN (decoder), which we will create soon. \n",
    "\n",
    "- TensorFlow provides a number of [RNN cells](https://www.tensorflow.org/api_guides/python/contrib.rnn#Core_RNN_Cells_for_use_with_TensorFlow_s_core_RNN_methods) ready for use. We suggest that you use [GRU cell](https://www.tensorflow.org/api_docs/python/tf/contrib/rnn/GRUCell), but you can also experiment with other types. \n",
    "- Wrap your cells with [DropoutWrapper](https://www.tensorflow.org/api_docs/python/tf/contrib/rnn/DropoutWrapper). Dropout is an important regularization technique for neural networks. Specify input keep probability using the dropout placeholder that we created before.\n",
    "- Combine the defined encoder cells with [Dynamic RNN](https://www.tensorflow.org/api_docs/python/tf/nn/dynamic_rnn). Use the embedded input batches and their lengths here.\n",
    "- Use *dtype=tf.float32* everywhere."
   ]
  },
  {
   "cell_type": "code",
   "execution_count": 23,
   "metadata": {},
   "outputs": [],
   "source": [
    "def build_encoder(self, hidden_size):\n",
    "    \"\"\"Specifies encoder architecture and computes its output.\"\"\"\n",
    "    \n",
    "    # Create GRUCell with dropout.\n",
    "    encoder_cell = tf.nn.rnn_cell.DropoutWrapper(\n",
    "        tf.nn.rnn_cell.GRUCell(hidden_size), input_keep_prob=self.dropout_ph, dtype=tf.float32)\n",
    "    \n",
    "    # Create RNN with the predefined cell.\n",
    "    _, self.final_encoder_state = tf.nn.dynamic_rnn(\n",
    "        encoder_cell, self.input_batch_embedded, self.input_batch_lengths, dtype=tf.float32)"
   ]
  },
  {
   "cell_type": "code",
   "execution_count": 24,
   "metadata": {},
   "outputs": [],
   "source": [
    "Seq2SeqModel.__build_encoder = classmethod(build_encoder)"
   ]
  },
  {
   "cell_type": "markdown",
   "metadata": {},
   "source": [
    "#### Decoder\n",
    "\n",
    "The second RNN is called a *decoder* and serves for generating the output sequence. In the simple seq2seq arcitecture, the input sequence is provided to the decoder only as the final state of the encoder. Obviously, it is a bottleneck and [Attention techniques](https://www.tensorflow.org/tutorials/seq2seq#background_on_the_attention_mechanism) can help to overcome it. So far, we do not need them to make our calculator work, but this would be a necessary ingredient for more advanced tasks. \n",
    "\n",
    "During training, decoder also uses information about the true output. It is feeded in as input symbol by symbol. However, during the prediction stage (which is called *inference* in this architecture), the decoder can only use its own generated output from the previous step to feed it in at the next step. Because of this difference (*training* vs *inference*), we will create two distinct instances, which will serve for the described scenarios.\n",
    "\n",
    "The picture below illustrates the point. It also shows our work with the special characters, e.g. look how the start symbol `^` is used. The transparent parts are ignored. In decoder, it is masked out in the loss computation. In encoder, the green state is considered as final and passed to the decoder. "
   ]
  },
  {
   "cell_type": "markdown",
   "metadata": {},
   "source": [
    "<img src=\"encoder-decoder-pic.png\" style=\"width: 500px;\">"
   ]
  },
  {
   "cell_type": "markdown",
   "metadata": {},
   "source": [
    "Now, it's time to implement the decoder:\n",
    " - First, we should create two [helpers](https://www.tensorflow.org/api_guides/python/contrib.seq2seq#Dynamic_Decoding). These classes help to determine the behaviour of the decoder. During the training time, we will use [TrainingHelper](https://www.tensorflow.org/api_docs/python/tf/contrib/seq2seq/TrainingHelper). For the inference we recommend to use [GreedyEmbeddingHelper](https://www.tensorflow.org/api_docs/python/tf/contrib/seq2seq/GreedyEmbeddingHelper).\n",
    " - To share all parameters during training and inference, we use one scope and set the flag 'reuse' to True at inference time. You might be interested to know more about how [variable scopes](https://www.tensorflow.org/programmers_guide/variables) work in TF. \n",
    " - To create the decoder itself, we will use [BasicDecoder](https://www.tensorflow.org/api_docs/python/tf/contrib/seq2seq/BasicDecoder) class. As previously, you should choose some RNN cell, e.g. GRU cell. To turn hidden states into logits, we will need a projection layer. One of the simple solutions is using [OutputProjectionWrapper](https://www.tensorflow.org/api_docs/python/tf/contrib/rnn/OutputProjectionWrapper).\n",
    " - For getting the predictions, it will be convinient to use [dynamic_decode](https://www.tensorflow.org/api_docs/python/tf/contrib/seq2seq/dynamic_decode). This function uses the provided decoder to perform decoding."
   ]
  },
  {
   "cell_type": "code",
   "execution_count": 25,
   "metadata": {},
   "outputs": [],
   "source": [
    "def build_decoder(self, hidden_size, vocab_size, max_iter, start_symbol_id, end_symbol_id):\n",
    "    \"\"\"Specifies decoder architecture and computes the output.\n",
    "    \n",
    "        Uses different helpers:\n",
    "          - for train: feeding ground truth\n",
    "          - for inference: feeding generated output\n",
    "\n",
    "        As a result, self.train_outputs and self.infer_outputs are created. \n",
    "        Each of them contains two fields:\n",
    "          rnn_output (predicted logits)\n",
    "          sample_id (predictions).\n",
    "\n",
    "    \"\"\"\n",
    "    \n",
    "    # Use start symbols as the decoder inputs at the first time step.\n",
    "    batch_size = tf.shape(self.input_batch)[0]\n",
    "    start_tokens = tf.fill([batch_size], start_symbol_id)\n",
    "    ground_truth_as_input = tf.concat([tf.expand_dims(start_tokens, 1), self.ground_truth], 1)\n",
    "    \n",
    "    # Use the embedding layer defined before to lookup embedings for ground_truth_as_input. \n",
    "    self.ground_truth_embedded = tf.nn.embedding_lookup(self.embeddings, ground_truth_as_input)\n",
    "     \n",
    "    # Create TrainingHelper for the train stage.\n",
    "    train_helper = tf.contrib.seq2seq.TrainingHelper(self.ground_truth_embedded, \n",
    "                                                     self.ground_truth_lengths)\n",
    "    \n",
    "    # Create GreedyEmbeddingHelper for the inference stage.\n",
    "    # You should provide the embedding layer, start_tokens and index of the end symbol.\n",
    "    infer_helper = tf.contrib.seq2seq.GreedyEmbeddingHelper(embedding=self.embeddings, \n",
    "                                                            start_tokens=start_tokens, \n",
    "                                                            end_token=end_symbol_id)\n",
    "  \n",
    "    def decode(helper, scope, reuse=None):\n",
    "        \"\"\"Creates decoder and return the results of the decoding with a given helper.\"\"\"\n",
    "        \n",
    "        with tf.variable_scope(scope, reuse=reuse):\n",
    "            # Create GRUCell with dropout. Do not forget to set the reuse flag properly.\n",
    "            decoder_cell = tf.nn.rnn_cell.DropoutWrapper(\n",
    "                tf.nn.rnn_cell.GRUCell(hidden_size, reuse=reuse), input_keep_prob=self.dropout_ph)\n",
    "            \n",
    "            # Create a projection wrapper.\n",
    "            decoder_cell = tf.contrib.rnn.OutputProjectionWrapper(decoder_cell, vocab_size, reuse=reuse)\n",
    "            \n",
    "            # Create BasicDecoder, pass the defined cell, a helper, and initial state.\n",
    "            # The initial state should be equal to the final state of the encoder!\n",
    "            decoder = tf.contrib.seq2seq.BasicDecoder(decoder_cell, helper, self.final_encoder_state)\n",
    "            \n",
    "            # The first returning argument of dynamic_decode contains two fields:\n",
    "            #   rnn_output (predicted logits)\n",
    "            #   sample_id (predictions)\n",
    "            outputs, _, _ = tf.contrib.seq2seq.dynamic_decode(decoder=decoder, maximum_iterations=max_iter, \n",
    "                                                              output_time_major=False, impute_finished=True)\n",
    "\n",
    "            return outputs\n",
    "        \n",
    "    self.train_outputs = decode(train_helper, 'decode')\n",
    "    self.infer_outputs = decode(infer_helper, 'decode', reuse=True)"
   ]
  },
  {
   "cell_type": "code",
   "execution_count": 26,
   "metadata": {},
   "outputs": [],
   "source": [
    "Seq2SeqModel.__build_decoder = classmethod(build_decoder)"
   ]
  },
  {
   "cell_type": "markdown",
   "metadata": {},
   "source": [
    "In this task we will use [sequence_loss](https://www.tensorflow.org/api_docs/python/tf/contrib/seq2seq/sequence_loss), which is a weighted cross-entropy loss for a sequence of logits. Take a moment to understand, what is your train logits and targets. Also note, that we do not want to take into account loss terms coming from padding symbols, so we will mask them out using weights.  "
   ]
  },
  {
   "cell_type": "code",
   "execution_count": 27,
   "metadata": {},
   "outputs": [],
   "source": [
    "def compute_loss(self):\n",
    "    \"\"\"Computes sequence loss (masked cross-entopy loss with logits).\"\"\"\n",
    "    \n",
    "    weights = tf.cast(tf.sequence_mask(self.ground_truth_lengths), dtype=tf.float32)\n",
    "    \n",
    "    self.loss = tf.contrib.seq2seq.sequence_loss(self.train_outputs.rnn_output, \n",
    "                                                 self.ground_truth, \n",
    "                                                 weights)"
   ]
  },
  {
   "cell_type": "code",
   "execution_count": 28,
   "metadata": {},
   "outputs": [],
   "source": [
    "Seq2SeqModel.__compute_loss = classmethod(compute_loss)"
   ]
  },
  {
   "cell_type": "markdown",
   "metadata": {},
   "source": [
    "The last thing to specify is the optimization of the defined loss. \n",
    "We suggest that you use [optimize_loss](https://www.tensorflow.org/api_docs/python/tf/contrib/layers/optimize_loss) with Adam optimizer and a learning rate from the corresponding placeholder. You might also need to pass global step (e.g. as tf.train.get_global_step()) and clip gradients by 1.0."
   ]
  },
  {
   "cell_type": "code",
   "execution_count": 29,
   "metadata": {},
   "outputs": [],
   "source": [
    "def perform_optimization(self):\n",
    "    \"\"\"Specifies train_op that optimizes self.loss.\"\"\"\n",
    "    \n",
    "    self.train_op = tf.contrib.layers.optimize_loss(self.loss, \n",
    "                                                    tf.train.get_global_step(),\n",
    "                                                    self.learning_rate_ph,\n",
    "                                                    'Adam',\n",
    "                                                    clip_gradients=1.0)"
   ]
  },
  {
   "cell_type": "code",
   "execution_count": 30,
   "metadata": {},
   "outputs": [],
   "source": [
    "Seq2SeqModel.__perform_optimization = classmethod(perform_optimization)"
   ]
  },
  {
   "cell_type": "markdown",
   "metadata": {},
   "source": [
    "Congratulations! You have specified all the parts of your network. You may have noticed, that we didn't deal with any real data yet, so what you have written is just recipies on how the network should function.\n",
    "Now we will put them to the constructor of our Seq2SeqModel class to use it in the next section. "
   ]
  },
  {
   "cell_type": "code",
   "execution_count": 31,
   "metadata": {},
   "outputs": [],
   "source": [
    "def init_model(self, vocab_size, embeddings_size, hidden_size, \n",
    "               max_iter, start_symbol_id, end_symbol_id, padding_symbol_id):\n",
    "    \n",
    "    self.__declare_placeholders()\n",
    "    self.__create_embeddings(vocab_size, embeddings_size)\n",
    "    self.__build_encoder(hidden_size)\n",
    "    self.__build_decoder(hidden_size, vocab_size, max_iter, start_symbol_id, end_symbol_id)\n",
    "    \n",
    "    # Compute loss and back-propagate.\n",
    "    self.__compute_loss()\n",
    "    self.__perform_optimization()\n",
    "    \n",
    "    # Get predictions for evaluation.\n",
    "    self.train_predictions = self.train_outputs.sample_id\n",
    "    self.infer_predictions = self.infer_outputs.sample_id"
   ]
  },
  {
   "cell_type": "code",
   "execution_count": 32,
   "metadata": {},
   "outputs": [],
   "source": [
    "Seq2SeqModel.__init__ = classmethod(init_model)"
   ]
  },
  {
   "cell_type": "markdown",
   "metadata": {},
   "source": [
    "## Train the network and predict output\n",
    "\n",
    "[Session.run](https://www.tensorflow.org/api_docs/python/tf/Session#run) is a point which initiates computations in the graph that we have defined. To train the network, we need to compute *self.train_op*. To predict output, we just need to compute *self.infer_predictions*. In any case, we need to feed actual data through the placeholders that we defined above. "
   ]
  },
  {
   "cell_type": "code",
   "execution_count": 33,
   "metadata": {},
   "outputs": [],
   "source": [
    "def train_on_batch(self, session, X, X_seq_len, Y, Y_seq_len, learning_rate, dropout_keep_probability):\n",
    "    feed_dict = {\n",
    "            self.input_batch: X,\n",
    "            self.input_batch_lengths: X_seq_len,\n",
    "            self.ground_truth: Y,\n",
    "            self.ground_truth_lengths: Y_seq_len,\n",
    "            self.learning_rate_ph: learning_rate,\n",
    "            self.dropout_ph: dropout_keep_probability\n",
    "        }\n",
    "    pred, loss, _ = session.run([\n",
    "            self.train_predictions,\n",
    "            self.loss,\n",
    "            self.train_op], feed_dict=feed_dict)\n",
    "    return pred, loss"
   ]
  },
  {
   "cell_type": "code",
   "execution_count": 34,
   "metadata": {},
   "outputs": [],
   "source": [
    "Seq2SeqModel.train_on_batch = classmethod(train_on_batch)"
   ]
  },
  {
   "cell_type": "markdown",
   "metadata": {},
   "source": [
    "We implemented two prediction functions: *predict_for_batch* and *predict_for_batch_with_loss*. The first one allows only to predict output for some input sequence, while the second one could compute loss because we provide also ground truth values. Both these functions might be useful since the first one could be used for predicting only, and the second one is helpful for validating results on not-training data during the training."
   ]
  },
  {
   "cell_type": "code",
   "execution_count": 35,
   "metadata": {},
   "outputs": [],
   "source": [
    "def predict_for_batch(self, session, X, X_seq_len):\n",
    "    feed_dict = {\n",
    "            self.input_batch: X,\n",
    "            self.input_batch_lengths: X_seq_len\n",
    "        }\n",
    "    pred = session.run([\n",
    "            self.infer_predictions\n",
    "        ], feed_dict=feed_dict)[0]\n",
    "    return pred\n",
    "\n",
    "def predict_for_batch_with_loss(self, session, X, X_seq_len, Y, Y_seq_len):\n",
    "    feed_dict = {\n",
    "            self.input_batch: X,\n",
    "            self.input_batch_lengths: X_seq_len,\n",
    "            self.ground_truth: Y,\n",
    "            self.ground_truth_lengths: Y_seq_len\n",
    "        }\n",
    "    pred, loss = session.run([\n",
    "            self.infer_predictions,\n",
    "            self.loss,\n",
    "        ], feed_dict=feed_dict)\n",
    "    return pred, loss"
   ]
  },
  {
   "cell_type": "code",
   "execution_count": 36,
   "metadata": {},
   "outputs": [],
   "source": [
    "Seq2SeqModel.predict_for_batch = classmethod(predict_for_batch)\n",
    "Seq2SeqModel.predict_for_batch_with_loss = classmethod(predict_for_batch_with_loss)"
   ]
  },
  {
   "cell_type": "code",
   "execution_count": 53,
   "metadata": {},
   "outputs": [],
   "source": [
    "invalid_number_prediction_counts = []\n",
    "all_model_predictions = []\n",
    "all_ground_truth = []"
   ]
  },
  {
   "cell_type": "code",
   "execution_count": 79,
   "metadata": {},
   "outputs": [],
   "source": [
    "def train(verbose=False):\n",
    "    tf.reset_default_graph()\n",
    "    \n",
    "    model = Seq2SeqModel(vocab_size=len(word2id), embeddings_size=20, hidden_size=512, max_iter=7, \n",
    "                         start_symbol_id=word2id['^'], end_symbol_id=word2id['$'], padding_symbol_id=word2id['#'])\n",
    "    \n",
    "    n_step = int(len(train_set) / batch_size)\n",
    "\n",
    "    session = tf.Session()\n",
    "    session.run(tf.global_variables_initializer())\n",
    "\n",
    "    invalid_number_prediction_counts.clear()\n",
    "    all_model_predictions.clear()\n",
    "    all_ground_truth.clear()\n",
    "\n",
    "    print('Start training... \\n')\n",
    "    for epoch in range(n_epochs):  \n",
    "        random.shuffle(train_set)\n",
    "        random.shuffle(test_set)\n",
    "\n",
    "        if verbose: print('Train: epoch', epoch + 1)\n",
    "        loss = 0\n",
    "        for n_iter, (X_batch, Y_batch) in enumerate(generate_batches(train_set, batch_size=batch_size)):\n",
    "            # prepare the data (X_batch and Y_batch) for training\n",
    "            # using function batch_to_ids\n",
    "            X, X_seq_len = batch_to_ids(X_batch, word2id, max_len)\n",
    "            Y, Y_seq_len = batch_to_ids(Y_batch, word2id, max_len)\n",
    "            predictions, loss = model.train_on_batch(\n",
    "                session, X, X_seq_len, Y, Y_seq_len, learning_rate, dropout_keep_probability)\n",
    "\n",
    "            if verbose and n_iter % 200 == 0:\n",
    "                print(\"Epoch: [%d/%d], step: [%d/%d], loss: %f\" \\\n",
    "                      % (epoch + 1, n_epochs, n_iter + 1, n_step, loss))\n",
    "\n",
    "        print('Train: epoch', epoch + 1, 'loss:', loss)\n",
    "\n",
    "        X_sent, Y_sent = next(generate_batches(test_set, batch_size=batch_size))\n",
    "        # prepare test data (X_sent and Y_sent) for predicting \n",
    "        # quality and computing value of the loss function\n",
    "        # using function batch_to_ids\n",
    "        X, X_seq_len = batch_to_ids(X_sent, word2id, max_len)\n",
    "        Y, Y_seq_len = batch_to_ids(Y_sent, word2id, max_len)\n",
    "        predictions, loss = model.predict_for_batch_with_loss(session, X, X_seq_len, Y, Y_seq_len)\n",
    "\n",
    "        print('Test:  epoch', epoch + 1, 'loss:', loss)\n",
    "        if verbose:\n",
    "            for x, y, p  in list(zip(X, Y, predictions))[:3]:\n",
    "                print('X:',''.join(ids_to_sentence(x, id2word)))\n",
    "                print('Y:',''.join(ids_to_sentence(y, id2word)))\n",
    "                print('O:',''.join(ids_to_sentence(p, id2word)))\n",
    "                print('')\n",
    "\n",
    "        model_predictions = []\n",
    "        ground_truth = []\n",
    "        invalid_number_prediction_count = 0\n",
    "        # For the whole test set calculate ground-truth values (as integer numbers)\n",
    "        # and prediction values (also as integers) to calculate metrics.\n",
    "        # If generated by model number is not correct (e.g. '1-1'), \n",
    "        # increase invalid_number_prediction_count and don't append this and corresponding\n",
    "        # ground-truth value to the arrays.\n",
    "        for X_batch, Y_batch in generate_batches(test_set, batch_size=batch_size):\n",
    "            X, X_seq_len = batch_to_ids(X_batch, word2id, max_len)\n",
    "            Y, Y_seq_len = batch_to_ids(Y_batch, word2id, max_len)\n",
    "            Y_pred = model.predict_for_batch(session, X, X_seq_len)\n",
    "            for y, y_pred in zip(Y, Y_pred):\n",
    "                try:\n",
    "                    y = sentence_to_number(ids_to_sentence(y, id2word))\n",
    "                    y_pred = sentence_to_number(ids_to_sentence(y_pred, id2word))\n",
    "                    model_predictions.append(y_pred)\n",
    "                    ground_truth.append(y)\n",
    "                except ValueError:\n",
    "                    invalid_number_prediction_count += 1\n",
    "\n",
    "        all_model_predictions.append(model_predictions)\n",
    "        all_ground_truth.append(ground_truth)\n",
    "        invalid_number_prediction_counts.append(invalid_number_prediction_count)\n",
    "\n",
    "    print('\\n...training finished.')"
   ]
  },
  {
   "cell_type": "markdown",
   "metadata": {},
   "source": [
    "## Evaluate results\n",
    "\n",
    "Because our task is simple and the output is straight-forward, we will use [MAE](https://en.wikipedia.org/wiki/Mean_absolute_error) metric to evaluate the trained model during the epochs. Compute the value of the metric for the output from each epoch."
   ]
  },
  {
   "cell_type": "code",
   "execution_count": 44,
   "metadata": {},
   "outputs": [],
   "source": [
    "from sklearn.metrics import mean_absolute_error"
   ]
  },
  {
   "cell_type": "code",
   "execution_count": 45,
   "metadata": {},
   "outputs": [],
   "source": [
    "def print_mae():\n",
    "    for i, (gts, predictions, invalid_number_prediction_count) in enumerate(zip(all_ground_truth,\n",
    "                                                                                all_model_predictions,\n",
    "                                                                                invalid_number_prediction_counts), 1):\n",
    "        mae = mean_absolute_error(gts, predictions)\n",
    "        print(\"Epoch: %i, MAE: %f, Invalid numbers: %i\" % (i, mae, invalid_number_prediction_count))"
   ]
  },
  {
   "cell_type": "markdown",
   "metadata": {},
   "source": [
    "## Run your experiment"
   ]
  },
  {
   "cell_type": "markdown",
   "metadata": {},
   "source": [
    "Create *Seq2SeqModel* model with the following parameters:\n",
    " - *vocab_size* — number of tokens;\n",
    " - *embeddings_size* — dimension of embeddings, recommended value: 20;\n",
    " - *max_iter* — maximum number of steps in decoder, recommended value: 7;\n",
    " - *hidden_size* — size of hidden layers for RNN, recommended value: 512;\n",
    " - *start_symbol_id* — an index of the start token (`^`).\n",
    " - *end_symbol_id* — an index of the end token (`$`).\n",
    " - *padding_symbol_id* — an index of the padding token (`#`).\n",
    "\n",
    "Set hyperparameters. You might want to start with the following values and see how it works:\n",
    "- *batch_size*: 128;\n",
    "- at least 10 epochs;\n",
    "- value of *learning_rate*: 0.001\n",
    "- *dropout_keep_probability* equals to 0.5 for training (typical values for dropout probability are ranging from 0.1 to 1.0); larger values correspond smaler number of dropout units;\n",
    "- *max_len*: 20."
   ]
  },
  {
   "cell_type": "markdown",
   "metadata": {},
   "source": [
    "Finally, we are ready to run the training! A good indicator that everything works fine is decreasing loss during the training. You should account on the loss value equal to approximately 2.7 at the beginning of the training and near 1 after the 10th epoch."
   ]
  },
  {
   "cell_type": "code",
   "execution_count": 68,
   "metadata": {},
   "outputs": [],
   "source": [
    "batch_size = 128\n",
    "n_epochs = 10\n",
    "learning_rate = 0.003\n",
    "dropout_keep_probability = 0.5\n",
    "max_len = 20"
   ]
  },
  {
   "cell_type": "code",
   "execution_count": 69,
   "metadata": {
    "scrolled": true
   },
   "outputs": [
    {
     "name": "stdout",
     "output_type": "stream",
     "text": [
      "Start training... \n",
      "\n",
      "Train: epoch 1\n",
      "Epoch: [1/10], step: [1/625], loss: 2.708738\n",
      "Epoch: [1/10], step: [201/625], loss: 1.718878\n",
      "Epoch: [1/10], step: [401/625], loss: 1.580284\n",
      "Epoch: [1/10], step: [601/625], loss: 1.477948\n",
      "Test: epoch 1 loss: 1.4019252\n",
      "X: 7657+5591$\n",
      "Y: 13248$\n",
      "O: 12899$\n",
      "\n",
      "X: 9700+221$#\n",
      "Y: 9921$#\n",
      "O: 9999$^\n",
      "\n",
      "X: 5926-2061$\n",
      "Y: 3865$#\n",
      "O: 3999$^\n",
      "\n",
      "Train: epoch 2\n",
      "Epoch: [2/10], step: [1/625], loss: 1.471949\n",
      "Epoch: [2/10], step: [201/625], loss: 1.412540\n",
      "Epoch: [2/10], step: [401/625], loss: 1.400998\n",
      "Epoch: [2/10], step: [601/625], loss: 1.369578\n",
      "Test: epoch 2 loss: 1.2702695\n",
      "X: 9906-8234$\n",
      "Y: 1672$#\n",
      "O: 2066$^\n",
      "\n",
      "X: 1913-6386$\n",
      "Y: -4473$\n",
      "O: -4117$\n",
      "\n",
      "X: 8492+6891$\n",
      "Y: 15383$\n",
      "O: 15112$\n",
      "\n",
      "Train: epoch 3\n",
      "Epoch: [3/10], step: [1/625], loss: 1.364780\n",
      "Epoch: [3/10], step: [201/625], loss: 1.336145\n",
      "Epoch: [3/10], step: [401/625], loss: 1.294654\n",
      "Epoch: [3/10], step: [601/625], loss: 1.256623\n",
      "Test: epoch 3 loss: 1.2278743\n",
      "X: 4267+11$##\n",
      "Y: 4278$#\n",
      "O: 4512$^\n",
      "\n",
      "X: 8461-4936$\n",
      "Y: 3525$#\n",
      "O: 3599$^\n",
      "\n",
      "X: 3042+8906$\n",
      "Y: 11948$\n",
      "O: 12122$\n",
      "\n",
      "Train: epoch 4\n",
      "Epoch: [4/10], step: [1/625], loss: 1.278177\n",
      "Epoch: [4/10], step: [201/625], loss: 1.216575\n",
      "Epoch: [4/10], step: [401/625], loss: 1.143728\n",
      "Epoch: [4/10], step: [601/625], loss: 1.112691\n",
      "Test: epoch 4 loss: 1.0527574\n",
      "X: 2045-6799$\n",
      "Y: -4754$\n",
      "O: -4703$\n",
      "\n",
      "X: 6641+2831$\n",
      "Y: 9472$#\n",
      "O: 9518$^\n",
      "\n",
      "X: 6625-666$#\n",
      "Y: 5959$#\n",
      "O: 5942$^\n",
      "\n",
      "Train: epoch 5\n",
      "Epoch: [5/10], step: [1/625], loss: 1.102755\n",
      "Epoch: [5/10], step: [201/625], loss: 1.026039\n",
      "Epoch: [5/10], step: [401/625], loss: 1.101827\n",
      "Epoch: [5/10], step: [601/625], loss: 0.995224\n",
      "Test: epoch 5 loss: 1.0002284\n",
      "X: 4417-5941$\n",
      "Y: -1524$\n",
      "O: -1508$\n",
      "\n",
      "X: 3774-1755$\n",
      "Y: 2019$#\n",
      "O: 1988$^\n",
      "\n",
      "X: 766-4799$#\n",
      "Y: -4033$\n",
      "O: -4077$\n",
      "\n",
      "Train: epoch 6\n",
      "Epoch: [6/10], step: [1/625], loss: 1.015577\n",
      "Epoch: [6/10], step: [201/625], loss: 0.993617\n",
      "Epoch: [6/10], step: [401/625], loss: 0.980687\n",
      "Epoch: [6/10], step: [601/625], loss: 0.981016\n",
      "Test: epoch 6 loss: 0.9264902\n",
      "X: 6138-9968$\n",
      "Y: -3830$\n",
      "O: -3788$\n",
      "\n",
      "X: 8416-2160$\n",
      "Y: 6256$#\n",
      "O: 6222$^\n",
      "\n",
      "X: 9436-1110$\n",
      "Y: 8326$#\n",
      "O: 8317$^\n",
      "\n",
      "Train: epoch 7\n",
      "Epoch: [7/10], step: [1/625], loss: 0.959897\n",
      "Epoch: [7/10], step: [201/625], loss: 0.973174\n",
      "Epoch: [7/10], step: [401/625], loss: 0.914156\n",
      "Epoch: [7/10], step: [601/625], loss: 0.926590\n",
      "Test: epoch 7 loss: 0.87633425\n",
      "X: 8492+6891$\n",
      "Y: 15383$\n",
      "O: 15370$\n",
      "\n",
      "X: 1772-9793$\n",
      "Y: -8021$\n",
      "O: -7999$\n",
      "\n",
      "X: 2893-7778$\n",
      "Y: -4885$\n",
      "O: -4910$\n",
      "\n",
      "Train: epoch 8\n",
      "Epoch: [8/10], step: [1/625], loss: 0.886645\n",
      "Epoch: [8/10], step: [201/625], loss: 0.896596\n",
      "Epoch: [8/10], step: [401/625], loss: 0.844540\n",
      "Epoch: [8/10], step: [601/625], loss: 0.848607\n",
      "Test: epoch 8 loss: 0.76900524\n",
      "X: 2270-3620$\n",
      "Y: -1350$\n",
      "O: -1361$\n",
      "\n",
      "X: 171-2491$#\n",
      "Y: -2320$\n",
      "O: -2311$\n",
      "\n",
      "X: 6905-8646$\n",
      "Y: -1741$\n",
      "O: -1741$\n",
      "\n",
      "Train: epoch 9\n",
      "Epoch: [9/10], step: [1/625], loss: 0.769504\n",
      "Epoch: [9/10], step: [201/625], loss: 0.774979\n",
      "Epoch: [9/10], step: [401/625], loss: 0.741131\n",
      "Epoch: [9/10], step: [601/625], loss: 0.755323\n",
      "Test: epoch 9 loss: 0.7071952\n",
      "X: 5697-5753$\n",
      "Y: -56$##\n",
      "O: -14$^^\n",
      "\n",
      "X: 9156-2119$\n",
      "Y: 7037$#\n",
      "O: 7031$^\n",
      "\n",
      "X: 7536+9969$\n",
      "Y: 17505$\n",
      "O: 17501$\n",
      "\n",
      "Train: epoch 10\n",
      "Epoch: [10/10], step: [1/625], loss: 0.707385\n",
      "Epoch: [10/10], step: [201/625], loss: 0.667352\n",
      "Epoch: [10/10], step: [401/625], loss: 0.703470\n",
      "Epoch: [10/10], step: [601/625], loss: 0.688116\n",
      "Test: epoch 10 loss: 0.6190556\n",
      "X: 5656+596$#\n",
      "Y: 6252$#\n",
      "O: 6363$^\n",
      "\n",
      "X: 2954-3079$\n",
      "Y: -125$#\n",
      "O: -128$^\n",
      "\n",
      "X: 9807+6244$\n",
      "Y: 16051$\n",
      "O: 16059$\n",
      "\n",
      "\n",
      "...training finished.\n"
     ]
    }
   ],
   "source": [
    "train()"
   ]
  },
  {
   "cell_type": "code",
   "execution_count": 70,
   "metadata": {
    "scrolled": false
   },
   "outputs": [
    {
     "name": "stdout",
     "output_type": "stream",
     "text": [
      "Epoch: 1, MAE: 409.725200, Invalid numbers: 0\n",
      "Epoch: 2, MAE: 204.978900, Invalid numbers: 0\n",
      "Epoch: 3, MAE: 130.629350, Invalid numbers: 0\n",
      "Epoch: 4, MAE: 62.442650, Invalid numbers: 0\n",
      "Epoch: 5, MAE: 44.121200, Invalid numbers: 0\n",
      "Epoch: 6, MAE: 42.960200, Invalid numbers: 0\n",
      "Epoch: 7, MAE: 34.731350, Invalid numbers: 0\n",
      "Epoch: 8, MAE: 28.433750, Invalid numbers: 0\n",
      "Epoch: 9, MAE: 22.312450, Invalid numbers: 0\n",
      "Epoch: 10, MAE: 30.588150, Invalid numbers: 0\n"
     ]
    }
   ],
   "source": [
    "print_mae()"
   ]
  },
  {
   "cell_type": "markdown",
   "metadata": {},
   "source": [
    "---"
   ]
  },
  {
   "cell_type": "code",
   "execution_count": 65,
   "metadata": {},
   "outputs": [],
   "source": [
    "batch_size = 128\n",
    "n_epochs = 10\n",
    "learning_rate = 0.001\n",
    "dropout_keep_probability = 0.5\n",
    "max_len = 20"
   ]
  },
  {
   "cell_type": "code",
   "execution_count": 66,
   "metadata": {
    "scrolled": true
   },
   "outputs": [
    {
     "name": "stdout",
     "output_type": "stream",
     "text": [
      "Start training... \n",
      "\n",
      "Train: epoch 1\n",
      "Epoch: [1/10], step: [1/625], loss: 2.713870\n",
      "Epoch: [1/10], step: [201/625], loss: 1.791953\n",
      "Epoch: [1/10], step: [401/625], loss: 1.703052\n",
      "Epoch: [1/10], step: [601/625], loss: 1.597282\n",
      "Test: epoch 1 loss: 1.5616639\n",
      "X: 402-8364$#\n",
      "Y: -7962$\n",
      "O: -7712$\n",
      "\n",
      "X: 1093-1445$\n",
      "Y: -352$#\n",
      "O: -110$^\n",
      "\n",
      "X: 3774-1755$\n",
      "Y: 2019$#\n",
      "O: 1144$^\n",
      "\n",
      "Train: epoch 2\n",
      "Epoch: [2/10], step: [1/625], loss: 1.602042\n",
      "Epoch: [2/10], step: [201/625], loss: 1.559986\n",
      "Epoch: [2/10], step: [401/625], loss: 1.527498\n",
      "Epoch: [2/10], step: [601/625], loss: 1.428349\n",
      "Test: epoch 2 loss: 1.404295\n",
      "X: 8514-9222$\n",
      "Y: -708$#\n",
      "O: -1060$\n",
      "\n",
      "X: 2689+1816$\n",
      "Y: 4505$#\n",
      "O: 4555$^\n",
      "\n",
      "X: 4304-5523$\n",
      "Y: -1219$\n",
      "O: -1460$\n",
      "\n",
      "Train: epoch 3\n",
      "Epoch: [3/10], step: [1/625], loss: 1.453359\n",
      "Epoch: [3/10], step: [201/625], loss: 1.437298\n",
      "Epoch: [3/10], step: [401/625], loss: 1.421731\n",
      "Epoch: [3/10], step: [601/625], loss: 1.413833\n",
      "Test: epoch 3 loss: 1.3405102\n",
      "X: 8774-4502$\n",
      "Y: 4272$#\n",
      "O: 4310$^\n",
      "\n",
      "X: 6421+1775$\n",
      "Y: 8196$#\n",
      "O: 8000$^\n",
      "\n",
      "X: 9612+5197$\n",
      "Y: 14809$\n",
      "O: 15000$\n",
      "\n",
      "Train: epoch 4\n",
      "Epoch: [4/10], step: [1/625], loss: 1.398223\n",
      "Epoch: [4/10], step: [201/625], loss: 1.402017\n",
      "Epoch: [4/10], step: [401/625], loss: 1.351684\n",
      "Epoch: [4/10], step: [601/625], loss: 1.335649\n",
      "Test: epoch 4 loss: 1.309521\n",
      "X: 4342+8921$\n",
      "Y: 13263$\n",
      "O: 13144$\n",
      "\n",
      "X: 6160+546$#\n",
      "Y: 6706$#\n",
      "O: 6322$^\n",
      "\n",
      "X: 7565+8682$\n",
      "Y: 16247$\n",
      "O: 16222$\n",
      "\n",
      "Train: epoch 5\n",
      "Epoch: [5/10], step: [1/625], loss: 1.354583\n",
      "Epoch: [5/10], step: [201/625], loss: 1.329328\n",
      "Epoch: [5/10], step: [401/625], loss: 1.333207\n",
      "Epoch: [5/10], step: [601/625], loss: 1.269133\n",
      "Test: epoch 5 loss: 1.2336102\n",
      "X: 392+420$##\n",
      "Y: 812$##\n",
      "O: 610$^^\n",
      "\n",
      "X: 5955-7669$\n",
      "Y: -1714$\n",
      "O: -1666$\n",
      "\n",
      "X: 466-7267$#\n",
      "Y: -6801$\n",
      "O: -6666$\n",
      "\n",
      "Train: epoch 6\n",
      "Epoch: [6/10], step: [1/625], loss: 1.319696\n",
      "Epoch: [6/10], step: [201/625], loss: 1.298939\n",
      "Epoch: [6/10], step: [401/625], loss: 1.332578\n",
      "Epoch: [6/10], step: [601/625], loss: 1.256832\n",
      "Test: epoch 6 loss: 1.2122045\n",
      "X: 2330+9695$\n",
      "Y: 12025$\n",
      "O: 11899$\n",
      "\n",
      "X: 8485-6667$\n",
      "Y: 1818$#\n",
      "O: 1699$^\n",
      "\n",
      "X: 8114+5861$\n",
      "Y: 13975$\n",
      "O: 13666$\n",
      "\n",
      "Train: epoch 7\n",
      "Epoch: [7/10], step: [1/625], loss: 1.272743\n",
      "Epoch: [7/10], step: [201/625], loss: 1.279399\n",
      "Epoch: [7/10], step: [401/625], loss: 1.193148\n",
      "Epoch: [7/10], step: [601/625], loss: 1.207941\n",
      "Test: epoch 7 loss: 1.1376542\n",
      "X: 7795-8795$\n",
      "Y: -1000$\n",
      "O: -999$^\n",
      "\n",
      "X: 3571+9721$\n",
      "Y: 13292$\n",
      "O: 13399$\n",
      "\n",
      "X: 9283-6129$\n",
      "Y: 3154$#\n",
      "O: 3199$^\n",
      "\n",
      "Train: epoch 8\n",
      "Epoch: [8/10], step: [1/625], loss: 1.161153\n",
      "Epoch: [8/10], step: [201/625], loss: 1.113451\n",
      "Epoch: [8/10], step: [401/625], loss: 1.111739\n",
      "Epoch: [8/10], step: [601/625], loss: 1.045913\n",
      "Test: epoch 8 loss: 1.0085442\n",
      "X: 1227-1861$\n",
      "Y: -634$#\n",
      "O: -601$^\n",
      "\n",
      "X: 9196-4827$\n",
      "Y: 4369$#\n",
      "O: 4377$^\n",
      "\n",
      "X: 2706+6966$\n",
      "Y: 9672$#\n",
      "O: 9677$^\n",
      "\n",
      "Train: epoch 9\n",
      "Epoch: [9/10], step: [1/625], loss: 1.038308\n",
      "Epoch: [9/10], step: [201/625], loss: 0.999366\n",
      "Epoch: [9/10], step: [401/625], loss: 0.974059\n",
      "Epoch: [9/10], step: [601/625], loss: 0.991852\n",
      "Test: epoch 9 loss: 0.9658869\n",
      "X: 1809-313$#\n",
      "Y: 1496$#\n",
      "O: 1499$^\n",
      "\n",
      "X: 6661+2575$\n",
      "Y: 9236$#\n",
      "O: 9188$^\n",
      "\n",
      "X: 3975+6005$\n",
      "Y: 9980$#\n",
      "O: 9938$^\n",
      "\n",
      "Train: epoch 10\n",
      "Epoch: [10/10], step: [1/625], loss: 0.980955\n",
      "Epoch: [10/10], step: [201/625], loss: 0.997564\n",
      "Epoch: [10/10], step: [401/625], loss: 0.960136\n",
      "Epoch: [10/10], step: [601/625], loss: 0.923523\n",
      "Test: epoch 10 loss: 0.9233499\n",
      "X: 7433-7814$\n",
      "Y: -381$#\n",
      "O: -399$^\n",
      "\n",
      "X: 4507-6740$\n",
      "Y: -2233$\n",
      "O: -2204$\n",
      "\n",
      "X: 3327-3517$\n",
      "Y: -190$#\n",
      "O: -207$^\n",
      "\n",
      "\n",
      "...training finished.\n"
     ]
    }
   ],
   "source": [
    "train()"
   ]
  },
  {
   "cell_type": "code",
   "execution_count": 67,
   "metadata": {
    "scrolled": true
   },
   "outputs": [
    {
     "name": "stdout",
     "output_type": "stream",
     "text": [
      "Epoch: 1, MAE: 767.976300, Invalid numbers: 0\n",
      "Epoch: 2, MAE: 289.846600, Invalid numbers: 0\n",
      "Epoch: 3, MAE: 275.990250, Invalid numbers: 0\n",
      "Epoch: 4, MAE: 192.821450, Invalid numbers: 0\n",
      "Epoch: 5, MAE: 130.630450, Invalid numbers: 0\n",
      "Epoch: 6, MAE: 142.878850, Invalid numbers: 0\n",
      "Epoch: 7, MAE: 74.646650, Invalid numbers: 0\n",
      "Epoch: 8, MAE: 42.475900, Invalid numbers: 0\n",
      "Epoch: 9, MAE: 34.460250, Invalid numbers: 0\n",
      "Epoch: 10, MAE: 28.657150, Invalid numbers: 0\n"
     ]
    }
   ],
   "source": [
    "print_mae()"
   ]
  },
  {
   "cell_type": "markdown",
   "metadata": {},
   "source": [
    "---"
   ]
  },
  {
   "cell_type": "code",
   "execution_count": 72,
   "metadata": {},
   "outputs": [],
   "source": [
    "batch_size = 128\n",
    "n_epochs = 10\n",
    "learning_rate = 0.001\n",
    "dropout_keep_probability = 0.9\n",
    "max_len = 20"
   ]
  },
  {
   "cell_type": "code",
   "execution_count": 73,
   "metadata": {
    "scrolled": false
   },
   "outputs": [
    {
     "name": "stdout",
     "output_type": "stream",
     "text": [
      "Start training... \n",
      "\n",
      "Train: epoch 1\n",
      "Test: epoch 1 loss: 1.5050821\n",
      "Train: epoch 2\n",
      "Test: epoch 2 loss: 1.3574255\n",
      "Train: epoch 3\n",
      "Test: epoch 3 loss: 1.2560706\n",
      "Train: epoch 4\n",
      "Test: epoch 4 loss: 1.2374316\n",
      "Train: epoch 5\n",
      "Test: epoch 5 loss: 1.1917087\n",
      "Train: epoch 6\n",
      "Test: epoch 6 loss: 1.156151\n",
      "Train: epoch 7\n",
      "Test: epoch 7 loss: 1.0976084\n",
      "Train: epoch 8\n",
      "Test: epoch 8 loss: 1.1008778\n",
      "Train: epoch 9\n",
      "Test: epoch 9 loss: 1.0806643\n",
      "Train: epoch 10\n",
      "Test: epoch 10 loss: 1.0562029\n",
      "\n",
      "...training finished.\n"
     ]
    }
   ],
   "source": [
    "train()"
   ]
  },
  {
   "cell_type": "code",
   "execution_count": 74,
   "metadata": {
    "scrolled": true
   },
   "outputs": [
    {
     "name": "stdout",
     "output_type": "stream",
     "text": [
      "Epoch: 1, MAE: 817.330950, Invalid numbers: 0\n",
      "Epoch: 2, MAE: 270.274200, Invalid numbers: 0\n",
      "Epoch: 3, MAE: 158.660200, Invalid numbers: 0\n",
      "Epoch: 4, MAE: 136.271800, Invalid numbers: 0\n",
      "Epoch: 5, MAE: 104.382050, Invalid numbers: 0\n",
      "Epoch: 6, MAE: 104.829000, Invalid numbers: 0\n",
      "Epoch: 7, MAE: 79.890000, Invalid numbers: 0\n",
      "Epoch: 8, MAE: 65.731050, Invalid numbers: 0\n",
      "Epoch: 9, MAE: 64.700000, Invalid numbers: 0\n",
      "Epoch: 10, MAE: 55.264950, Invalid numbers: 0\n"
     ]
    }
   ],
   "source": [
    "print_mae()"
   ]
  },
  {
   "cell_type": "markdown",
   "metadata": {},
   "source": [
    "---"
   ]
  },
  {
   "cell_type": "code",
   "execution_count": 76,
   "metadata": {},
   "outputs": [],
   "source": [
    "batch_size = 128\n",
    "n_epochs = 10\n",
    "learning_rate = 0.01\n",
    "dropout_keep_probability = 0.5\n",
    "max_len = 20"
   ]
  },
  {
   "cell_type": "code",
   "execution_count": 77,
   "metadata": {
    "scrolled": false
   },
   "outputs": [
    {
     "name": "stdout",
     "output_type": "stream",
     "text": [
      "Start training... \n",
      "\n",
      "Train: epoch 1 loss: 1.4537721\n",
      "Test:  epoch 1 loss: 1.4032255\n",
      "Train: epoch 2 loss: 1.3634746\n",
      "Test:  epoch 2 loss: 1.3330561\n",
      "Train: epoch 3 loss: 1.3776853\n",
      "Test:  epoch 3 loss: 1.3165455\n",
      "Train: epoch 4 loss: 1.3001626\n",
      "Test:  epoch 4 loss: 1.2661906\n",
      "Train: epoch 5 loss: 1.2026029\n",
      "Test:  epoch 5 loss: 1.157087\n",
      "Train: epoch 6 loss: 1.1380213\n",
      "Test:  epoch 6 loss: 1.111913\n",
      "Train: epoch 7 loss: 1.1520227\n",
      "Test:  epoch 7 loss: 1.0887846\n",
      "Train: epoch 8 loss: 1.141133\n",
      "Test:  epoch 8 loss: 1.0792423\n",
      "Train: epoch 9 loss: 1.114999\n",
      "Test:  epoch 9 loss: 1.0510364\n",
      "Train: epoch 10 loss: 1.1080395\n",
      "Test:  epoch 10 loss: 1.0172266\n",
      "\n",
      "...training finished.\n"
     ]
    }
   ],
   "source": [
    "train()"
   ]
  },
  {
   "cell_type": "code",
   "execution_count": 78,
   "metadata": {
    "scrolled": false
   },
   "outputs": [
    {
     "name": "stdout",
     "output_type": "stream",
     "text": [
      "Epoch: 1, MAE: 345.441700, Invalid numbers: 0\n",
      "Epoch: 2, MAE: 260.039700, Invalid numbers: 0\n",
      "Epoch: 3, MAE: 253.752475, Invalid numbers: 2\n",
      "Epoch: 4, MAE: 145.320350, Invalid numbers: 0\n",
      "Epoch: 5, MAE: 125.823500, Invalid numbers: 0\n",
      "Epoch: 6, MAE: 87.970700, Invalid numbers: 0\n",
      "Epoch: 7, MAE: 90.549550, Invalid numbers: 0\n",
      "Epoch: 8, MAE: 82.815000, Invalid numbers: 0\n",
      "Epoch: 9, MAE: 69.305700, Invalid numbers: 0\n",
      "Epoch: 10, MAE: 68.298050, Invalid numbers: 0\n"
     ]
    }
   ],
   "source": [
    "print_mae()"
   ]
  },
  {
   "cell_type": "markdown",
   "metadata": {},
   "source": [
    "---"
   ]
  },
  {
   "cell_type": "code",
   "execution_count": 62,
   "metadata": {},
   "outputs": [],
   "source": [
    "batch_size = 128\n",
    "n_epochs = 10\n",
    "learning_rate = 0.001\n",
    "dropout_keep_probability = 0.7\n",
    "max_len = 20"
   ]
  },
  {
   "cell_type": "code",
   "execution_count": 63,
   "metadata": {
    "scrolled": true
   },
   "outputs": [
    {
     "name": "stdout",
     "output_type": "stream",
     "text": [
      "Start training... \n",
      "\n",
      "Train: epoch 1\n",
      "Epoch: [1/10], step: [1/625], loss: 2.700536\n",
      "Epoch: [1/10], step: [201/625], loss: 1.746760\n",
      "Epoch: [1/10], step: [401/625], loss: 1.664899\n",
      "Epoch: [1/10], step: [601/625], loss: 1.596570\n",
      "Test: epoch 1 loss: 1.5398918\n",
      "X: 4783+339$#\n",
      "Y: 5122$#\n",
      "O: 4691$^\n",
      "\n",
      "X: 5974+8634$\n",
      "Y: 14608$\n",
      "O: 13991$\n",
      "\n",
      "X: 7502-5645$\n",
      "Y: 1857$#\n",
      "O: 2181$^\n",
      "\n",
      "Train: epoch 2\n",
      "Epoch: [2/10], step: [1/625], loss: 1.551853\n",
      "Epoch: [2/10], step: [201/625], loss: 1.504398\n",
      "Epoch: [2/10], step: [401/625], loss: 1.476283\n",
      "Epoch: [2/10], step: [601/625], loss: 1.393275\n",
      "Test: epoch 2 loss: 1.3626865\n",
      "X: 8802-5460$\n",
      "Y: 3342$#\n",
      "O: 2522$^\n",
      "\n",
      "X: 8724-1035$\n",
      "Y: 7689$#\n",
      "O: 7188$^\n",
      "\n",
      "X: 942-2059$#\n",
      "Y: -1117$\n",
      "O: -1082$\n",
      "\n",
      "Train: epoch 3\n",
      "Epoch: [3/10], step: [1/625], loss: 1.382928\n",
      "Epoch: [3/10], step: [201/625], loss: 1.360310\n",
      "Epoch: [3/10], step: [401/625], loss: 1.367644\n",
      "Epoch: [3/10], step: [601/625], loss: 1.322171\n",
      "Test: epoch 3 loss: 1.2816805\n",
      "X: 7391+4182$\n",
      "Y: 11573$\n",
      "O: 11400$\n",
      "\n",
      "X: 8990-688$#\n",
      "Y: 8302$#\n",
      "O: 8077$^\n",
      "\n",
      "X: 3012+6882$\n",
      "Y: 9894$#\n",
      "O: 9966$^\n",
      "\n",
      "Train: epoch 4\n",
      "Epoch: [4/10], step: [1/625], loss: 1.329532\n",
      "Epoch: [4/10], step: [201/625], loss: 1.303821\n",
      "Epoch: [4/10], step: [401/625], loss: 1.311906\n",
      "Epoch: [4/10], step: [601/625], loss: 1.265622\n",
      "Test: epoch 4 loss: 1.2330905\n",
      "X: 2251-658$#\n",
      "Y: 1593$#\n",
      "O: 1773$^\n",
      "\n",
      "X: 2261+4580$\n",
      "Y: 6841$#\n",
      "O: 7159$^\n",
      "\n",
      "X: 2595-756$#\n",
      "Y: 1839$#\n",
      "O: 1877$^\n",
      "\n",
      "Train: epoch 5\n",
      "Epoch: [5/10], step: [1/625], loss: 1.253411\n",
      "Epoch: [5/10], step: [201/625], loss: 1.287685\n",
      "Epoch: [5/10], step: [401/625], loss: 1.225057\n",
      "Epoch: [5/10], step: [601/625], loss: 1.203857\n",
      "Test: epoch 5 loss: 1.1946262\n",
      "X: 4585-2170$\n",
      "Y: 2415$#\n",
      "O: 2069$^\n",
      "\n",
      "X: 2151+8936$\n",
      "Y: 11087$\n",
      "O: 11033$\n",
      "\n",
      "X: 229+5877$#\n",
      "Y: 6106$#\n",
      "O: 5911$^\n",
      "\n",
      "Train: epoch 6\n",
      "Epoch: [6/10], step: [1/625], loss: 1.235728\n",
      "Epoch: [6/10], step: [201/625], loss: 1.172086\n",
      "Epoch: [6/10], step: [401/625], loss: 1.172524\n",
      "Epoch: [6/10], step: [601/625], loss: 1.218074\n",
      "Test: epoch 6 loss: 1.1435506\n",
      "X: 2746-1009$\n",
      "Y: 1737$#\n",
      "O: 1777$^\n",
      "\n",
      "X: 9735-7463$\n",
      "Y: 2272$#\n",
      "O: 2369$^\n",
      "\n",
      "X: 1975+4648$\n",
      "Y: 6623$#\n",
      "O: 6677$^\n",
      "\n",
      "Train: epoch 7\n",
      "Epoch: [7/10], step: [1/625], loss: 1.154922\n",
      "Epoch: [7/10], step: [201/625], loss: 1.144313\n",
      "Epoch: [7/10], step: [401/625], loss: 1.136497\n",
      "Epoch: [7/10], step: [601/625], loss: 1.106123\n",
      "Test: epoch 7 loss: 1.1264914\n",
      "X: 4082-3651$\n",
      "Y: 431$##\n",
      "O: 384$^^\n",
      "\n",
      "X: 5102+7602$\n",
      "Y: 12704$\n",
      "O: 12857$\n",
      "\n",
      "X: 9377-4203$\n",
      "Y: 5174$#\n",
      "O: 5027$^\n",
      "\n",
      "Train: epoch 8\n",
      "Epoch: [8/10], step: [1/625], loss: 1.147701\n",
      "Epoch: [8/10], step: [201/625], loss: 1.105965\n",
      "Epoch: [8/10], step: [401/625], loss: 1.114415\n",
      "Epoch: [8/10], step: [601/625], loss: 1.037164\n",
      "Test: epoch 8 loss: 1.0721871\n",
      "X: 1297-1149$\n",
      "Y: 148$##\n",
      "O: 18$^^^\n",
      "\n",
      "X: 4246-320$#\n",
      "Y: 3926$#\n",
      "O: 3943$^\n",
      "\n",
      "X: 798+5061$#\n",
      "Y: 5859$#\n",
      "O: 5959$^\n",
      "\n",
      "Train: epoch 9\n",
      "Epoch: [9/10], step: [1/625], loss: 1.057325\n",
      "Epoch: [9/10], step: [201/625], loss: 1.084976\n",
      "Epoch: [9/10], step: [401/625], loss: 1.039760\n",
      "Epoch: [9/10], step: [601/625], loss: 1.058432\n",
      "Test: epoch 9 loss: 1.0205338\n",
      "X: 3100-6735$\n",
      "Y: -3635$\n",
      "O: -3634$\n",
      "\n",
      "X: 4678+5600$\n",
      "Y: 10278$\n",
      "O: 10308$\n",
      "\n",
      "X: 7494+6725$\n",
      "Y: 14219$\n",
      "O: 14229$\n",
      "\n",
      "Train: epoch 10\n",
      "Epoch: [10/10], step: [1/625], loss: 1.024500\n",
      "Epoch: [10/10], step: [201/625], loss: 1.035011\n",
      "Epoch: [10/10], step: [401/625], loss: 0.976541\n",
      "Epoch: [10/10], step: [601/625], loss: 0.981388\n",
      "Test: epoch 10 loss: 0.95338094\n",
      "X: 6570-7872$\n",
      "Y: -1302$\n",
      "O: -1323$\n",
      "\n",
      "X: 8302+8962$\n",
      "Y: 17264$\n",
      "O: 17213$\n",
      "\n",
      "X: 492+5517$#\n",
      "Y: 6009$#\n",
      "O: 5982$^\n",
      "\n",
      "\n",
      "...training finished.\n"
     ]
    }
   ],
   "source": [
    "train()"
   ]
  },
  {
   "cell_type": "code",
   "execution_count": 64,
   "metadata": {
    "scrolled": false
   },
   "outputs": [
    {
     "name": "stdout",
     "output_type": "stream",
     "text": [
      "Epoch: 1, MAE: 642.589450, Invalid numbers: 0\n",
      "Epoch: 2, MAE: 265.187400, Invalid numbers: 0\n",
      "Epoch: 3, MAE: 185.937250, Invalid numbers: 0\n",
      "Epoch: 4, MAE: 150.951350, Invalid numbers: 0\n",
      "Epoch: 5, MAE: 119.169150, Invalid numbers: 0\n",
      "Epoch: 6, MAE: 82.829600, Invalid numbers: 0\n",
      "Epoch: 7, MAE: 83.982600, Invalid numbers: 0\n",
      "Epoch: 8, MAE: 55.799050, Invalid numbers: 0\n",
      "Epoch: 9, MAE: 43.052450, Invalid numbers: 0\n",
      "Epoch: 10, MAE: 31.132100, Invalid numbers: 0\n"
     ]
    }
   ],
   "source": [
    "print_mae()"
   ]
  },
  {
   "cell_type": "markdown",
   "metadata": {},
   "source": [
    "---"
   ]
  },
  {
   "cell_type": "code",
   "execution_count": 55,
   "metadata": {},
   "outputs": [],
   "source": [
    "batch_size = 64\n",
    "n_epochs = 10\n",
    "learning_rate = 0.001\n",
    "dropout_keep_probability = 0.5\n",
    "max_len = 20"
   ]
  },
  {
   "cell_type": "code",
   "execution_count": 56,
   "metadata": {
    "scrolled": true
   },
   "outputs": [
    {
     "name": "stdout",
     "output_type": "stream",
     "text": [
      "Start training... \n",
      "\n",
      "Train: epoch 1\n",
      "Epoch: [1/10], step: [1/1250], loss: 2.703587\n",
      "Epoch: [1/10], step: [201/1250], loss: 1.880557\n",
      "Epoch: [1/10], step: [401/1250], loss: 1.747863\n",
      "Epoch: [1/10], step: [601/1250], loss: 1.737815\n",
      "Epoch: [1/10], step: [801/1250], loss: 1.640394\n",
      "Epoch: [1/10], step: [1001/1250], loss: 1.564850\n",
      "Epoch: [1/10], step: [1201/1250], loss: 1.528093\n",
      "Test: epoch 1 loss: 1.5204782\n",
      "X: 8579+7922$\n",
      "Y: 16501$\n",
      "O: 16122$\n",
      "\n",
      "X: 8061-5210$\n",
      "Y: 2851$#\n",
      "O: 3172$^\n",
      "\n",
      "X: 6032+8651$\n",
      "Y: 14683$\n",
      "O: 14172$\n",
      "\n",
      "Train: epoch 2\n",
      "Epoch: [2/10], step: [1/1250], loss: 1.542086\n",
      "Epoch: [2/10], step: [201/1250], loss: 1.495229\n",
      "Epoch: [2/10], step: [401/1250], loss: 1.489754\n",
      "Epoch: [2/10], step: [601/1250], loss: 1.461148\n",
      "Epoch: [2/10], step: [801/1250], loss: 1.417036\n",
      "Epoch: [2/10], step: [1001/1250], loss: 1.407146\n",
      "Epoch: [2/10], step: [1201/1250], loss: 1.449531\n",
      "Test: epoch 2 loss: 1.363331\n",
      "X: 4653-8548$\n",
      "Y: -3895$\n",
      "O: -3801$\n",
      "\n",
      "X: 7094+9246$\n",
      "Y: 16340$\n",
      "O: 16222$\n",
      "\n",
      "X: 2223-8529$\n",
      "Y: -6306$\n",
      "O: -6221$\n",
      "\n",
      "Train: epoch 3\n",
      "Epoch: [3/10], step: [1/1250], loss: 1.379608\n",
      "Epoch: [3/10], step: [201/1250], loss: 1.373174\n",
      "Epoch: [3/10], step: [401/1250], loss: 1.393716\n",
      "Epoch: [3/10], step: [601/1250], loss: 1.384571\n",
      "Epoch: [3/10], step: [801/1250], loss: 1.357232\n",
      "Epoch: [3/10], step: [1001/1250], loss: 1.354596\n",
      "Epoch: [3/10], step: [1201/1250], loss: 1.360140\n",
      "Test: epoch 3 loss: 1.2930315\n",
      "X: 8495-288$#\n",
      "Y: 8207$#\n",
      "O: 7979$^\n",
      "\n",
      "X: 9755-2401$\n",
      "Y: 7354$#\n",
      "O: 7800$^\n",
      "\n",
      "X: 1782-5368$\n",
      "Y: -3586$\n",
      "O: -3209$\n",
      "\n",
      "Train: epoch 4\n",
      "Epoch: [4/10], step: [1/1250], loss: 1.344121\n",
      "Epoch: [4/10], step: [201/1250], loss: 1.309452\n",
      "Epoch: [4/10], step: [401/1250], loss: 1.316588\n",
      "Epoch: [4/10], step: [601/1250], loss: 1.291605\n",
      "Epoch: [4/10], step: [801/1250], loss: 1.260948\n",
      "Epoch: [4/10], step: [1001/1250], loss: 1.306289\n",
      "Epoch: [4/10], step: [1201/1250], loss: 1.292496\n",
      "Test: epoch 4 loss: 1.1917509\n",
      "X: 8666-5508$\n",
      "Y: 3158$#\n",
      "O: 3133$^\n",
      "\n",
      "X: 1358-277$#\n",
      "Y: 1081$#\n",
      "O: 1233$^\n",
      "\n",
      "X: 3654+1480$\n",
      "Y: 5134$#\n",
      "O: 4882$^\n",
      "\n",
      "Train: epoch 5\n",
      "Epoch: [5/10], step: [1/1250], loss: 1.323814\n",
      "Epoch: [5/10], step: [201/1250], loss: 1.317142\n",
      "Epoch: [5/10], step: [401/1250], loss: 1.263049\n",
      "Epoch: [5/10], step: [601/1250], loss: 1.270733\n",
      "Epoch: [5/10], step: [801/1250], loss: 1.263185\n",
      "Epoch: [5/10], step: [1001/1250], loss: 1.222637\n",
      "Epoch: [5/10], step: [1201/1250], loss: 1.231152\n",
      "Test: epoch 5 loss: 1.1522892\n",
      "X: 1987-2208$\n",
      "Y: -221$#\n",
      "O: -33$^^\n",
      "\n",
      "X: 2451-7209$\n",
      "Y: -4758$\n",
      "O: -4999$\n",
      "\n",
      "X: 6073-7798$\n",
      "Y: -1725$\n",
      "O: -1588$\n",
      "\n",
      "Train: epoch 6\n",
      "Epoch: [6/10], step: [1/1250], loss: 1.190465\n",
      "Epoch: [6/10], step: [201/1250], loss: 1.212247\n",
      "Epoch: [6/10], step: [401/1250], loss: 1.242738\n",
      "Epoch: [6/10], step: [601/1250], loss: 1.214150\n",
      "Epoch: [6/10], step: [801/1250], loss: 1.137459\n",
      "Epoch: [6/10], step: [1001/1250], loss: 1.142199\n",
      "Epoch: [6/10], step: [1201/1250], loss: 1.117950\n",
      "Test: epoch 6 loss: 1.0369786\n",
      "X: 3828+2948$\n",
      "Y: 6776$#\n",
      "O: 6861$^\n",
      "\n",
      "X: 7970+4133$\n",
      "Y: 12103$\n",
      "O: 12129$\n",
      "\n",
      "X: 9078-3325$\n",
      "Y: 5753$#\n",
      "O: 5666$^\n",
      "\n",
      "Train: epoch 7\n",
      "Epoch: [7/10], step: [1/1250], loss: 1.119107\n",
      "Epoch: [7/10], step: [201/1250], loss: 1.122625\n",
      "Epoch: [7/10], step: [401/1250], loss: 1.122311\n",
      "Epoch: [7/10], step: [601/1250], loss: 1.065620\n",
      "Epoch: [7/10], step: [801/1250], loss: 1.059785\n",
      "Epoch: [7/10], step: [1001/1250], loss: 0.978807\n",
      "Epoch: [7/10], step: [1201/1250], loss: 1.101941\n",
      "Test: epoch 7 loss: 1.0186777\n",
      "X: 9144-9279$\n",
      "Y: -135$#\n",
      "O: -10$^^\n",
      "\n",
      "X: 6470-6804$\n",
      "Y: -334$#\n",
      "O: -392$^\n",
      "\n",
      "X: 6771-3778$\n",
      "Y: 2993$#\n",
      "O: 3012$^\n",
      "\n",
      "Train: epoch 8\n",
      "Epoch: [8/10], step: [1/1250], loss: 1.003350\n",
      "Epoch: [8/10], step: [201/1250], loss: 1.025082\n",
      "Epoch: [8/10], step: [401/1250], loss: 0.994449\n",
      "Epoch: [8/10], step: [601/1250], loss: 0.987408\n",
      "Epoch: [8/10], step: [801/1250], loss: 0.921550\n",
      "Epoch: [8/10], step: [1001/1250], loss: 0.970980\n",
      "Epoch: [8/10], step: [1201/1250], loss: 1.044074\n",
      "Test: epoch 8 loss: 0.9049657\n",
      "X: 9333+576$#\n",
      "Y: 9909$#\n",
      "O: 9999$^\n",
      "\n",
      "X: 8781-3407$\n",
      "Y: 5374$#\n",
      "O: 5373$^\n",
      "\n",
      "X: 1432+3410$\n",
      "Y: 4842$#\n",
      "O: 4865$^\n",
      "\n",
      "Train: epoch 9\n",
      "Epoch: [9/10], step: [1/1250], loss: 0.940931\n",
      "Epoch: [9/10], step: [201/1250], loss: 0.983762\n",
      "Epoch: [9/10], step: [401/1250], loss: 0.893503\n",
      "Epoch: [9/10], step: [601/1250], loss: 0.952132\n",
      "Epoch: [9/10], step: [801/1250], loss: 0.948593\n",
      "Epoch: [9/10], step: [1001/1250], loss: 0.973757\n",
      "Epoch: [9/10], step: [1201/1250], loss: 0.956815\n",
      "Test: epoch 9 loss: 0.8853054\n",
      "X: 5990+8889$\n",
      "Y: 14879$\n",
      "O: 14877$\n",
      "\n",
      "X: 1858+6669$\n",
      "Y: 8527$#\n",
      "O: 8519$^\n",
      "\n",
      "X: 3667-1195$\n",
      "Y: 2472$#\n",
      "O: 2483$^\n",
      "\n",
      "Train: epoch 10\n",
      "Epoch: [10/10], step: [1/1250], loss: 0.943331\n",
      "Epoch: [10/10], step: [201/1250], loss: 0.996833\n",
      "Epoch: [10/10], step: [401/1250], loss: 0.972738\n",
      "Epoch: [10/10], step: [601/1250], loss: 0.905357\n",
      "Epoch: [10/10], step: [801/1250], loss: 0.894140\n",
      "Epoch: [10/10], step: [1001/1250], loss: 0.903197\n",
      "Epoch: [10/10], step: [1201/1250], loss: 0.942225\n",
      "Test: epoch 10 loss: 0.88541824\n",
      "X: 8161+5906$\n",
      "Y: 14067$\n",
      "O: 14058$\n",
      "\n",
      "X: 1493-8653$\n",
      "Y: -7160$\n",
      "O: -7128$\n",
      "\n",
      "X: 623+8513$#\n",
      "Y: 9136$#\n",
      "O: 9138$^\n",
      "\n",
      "\n",
      "...training finished.\n"
     ]
    }
   ],
   "source": [
    "train()"
   ]
  },
  {
   "cell_type": "code",
   "execution_count": 57,
   "metadata": {},
   "outputs": [
    {
     "name": "stdout",
     "output_type": "stream",
     "text": [
      "Epoch: 1, MAE: 479.004550, Invalid numbers: 0\n",
      "Epoch: 2, MAE: 290.364150, Invalid numbers: 0\n",
      "Epoch: 3, MAE: 228.556700, Invalid numbers: 0\n",
      "Epoch: 4, MAE: 137.718600, Invalid numbers: 0\n",
      "Epoch: 5, MAE: 115.306150, Invalid numbers: 0\n",
      "Epoch: 6, MAE: 56.286650, Invalid numbers: 0\n",
      "Epoch: 7, MAE: 36.433100, Invalid numbers: 0\n",
      "Epoch: 8, MAE: 30.652400, Invalid numbers: 0\n",
      "Epoch: 9, MAE: 29.339750, Invalid numbers: 0\n",
      "Epoch: 10, MAE: 21.073600, Invalid numbers: 0\n"
     ]
    }
   ],
   "source": [
    "print_mae()"
   ]
  },
  {
   "cell_type": "markdown",
   "metadata": {},
   "source": [
    "---"
   ]
  },
  {
   "cell_type": "code",
   "execution_count": null,
   "metadata": {},
   "outputs": [],
   "source": [
    "batch_size = 256\n",
    "n_epochs = 10\n",
    "learning_rate = 0.001\n",
    "dropout_keep_probability = 0.5\n",
    "max_len = 20"
   ]
  },
  {
   "cell_type": "code",
   "execution_count": 38,
   "metadata": {
    "scrolled": true
   },
   "outputs": [
    {
     "name": "stdout",
     "output_type": "stream",
     "text": [
      "Start training... \n",
      "\n",
      "Train: epoch 1\n",
      "Epoch: [1/10], step: [1/312], loss: 2.701307\n",
      "Epoch: [1/10], step: [105/312], loss: 1.855206\n",
      "Epoch: [1/10], step: [209/312], loss: 1.737026\n",
      "Epoch: [1/10], step: [313/312], loss: 1.755267\n",
      "Test: epoch 1 loss: 1.6703312\n",
      "X: 4271-7083$\n",
      "Y: -2812$\n",
      "O: -4444$\n",
      "\n",
      "X: 4348-9377$\n",
      "Y: -5029$\n",
      "O: -4444$\n",
      "\n",
      "X: 7560+3980$\n",
      "Y: 11540$\n",
      "O: 12222$\n",
      "\n",
      "Train: epoch 2\n",
      "Epoch: [2/10], step: [1/312], loss: 1.732794\n",
      "Epoch: [2/10], step: [105/312], loss: 1.698796\n",
      "Epoch: [2/10], step: [209/312], loss: 1.604468\n",
      "Epoch: [2/10], step: [313/312], loss: 1.575830\n",
      "Test: epoch 2 loss: 1.4864072\n",
      "X: 2683+7679$\n",
      "Y: 10362$\n",
      "O: 10033$\n",
      "\n",
      "X: 998+9055$#\n",
      "Y: 10053$\n",
      "O: 9902$^\n",
      "\n",
      "X: 6501-1395$\n",
      "Y: 5106$#\n",
      "O: 5774$^\n",
      "\n",
      "Train: epoch 3\n",
      "Epoch: [3/10], step: [1/312], loss: 1.577146\n",
      "Epoch: [3/10], step: [105/312], loss: 1.509704\n",
      "Epoch: [3/10], step: [209/312], loss: 1.512026\n",
      "Epoch: [3/10], step: [313/312], loss: 1.447675\n",
      "Test: epoch 3 loss: 1.4009407\n",
      "X: 7341-7372$\n",
      "Y: -31$##\n",
      "O: -111$^\n",
      "\n",
      "X: 951-1475$#\n",
      "Y: -524$#\n",
      "O: -1111$\n",
      "\n",
      "X: 7183+124$#\n",
      "Y: 7307$#\n",
      "O: 7711$^\n",
      "\n",
      "Train: epoch 4\n",
      "Epoch: [4/10], step: [1/312], loss: 1.468368\n",
      "Epoch: [4/10], step: [105/312], loss: 1.457324\n",
      "Epoch: [4/10], step: [209/312], loss: 1.408424\n",
      "Epoch: [4/10], step: [313/312], loss: 1.390331\n",
      "Test: epoch 4 loss: 1.3551337\n",
      "X: 9398+6005$\n",
      "Y: 15403$\n",
      "O: 15338$\n",
      "\n",
      "X: 2352-140$#\n",
      "Y: 2212$#\n",
      "O: 2388$^\n",
      "\n",
      "X: 6431+5218$\n",
      "Y: 11649$\n",
      "O: 11828$\n",
      "\n",
      "Train: epoch 5\n",
      "Epoch: [5/10], step: [1/312], loss: 1.421394\n",
      "Epoch: [5/10], step: [105/312], loss: 1.356921\n",
      "Epoch: [5/10], step: [209/312], loss: 1.370097\n",
      "Epoch: [5/10], step: [313/312], loss: 1.355778\n",
      "Test: epoch 5 loss: 1.3103495\n",
      "X: 5642-2878$\n",
      "Y: 2764$#\n",
      "O: 2482$^\n",
      "\n",
      "X: 5549-3495$\n",
      "Y: 2054$#\n",
      "O: 1822$^\n",
      "\n",
      "X: 1379-8796$\n",
      "Y: -7417$\n",
      "O: -7565$\n",
      "\n",
      "Train: epoch 6\n",
      "Epoch: [6/10], step: [1/312], loss: 1.357563\n",
      "Epoch: [6/10], step: [105/312], loss: 1.335039\n",
      "Epoch: [6/10], step: [209/312], loss: 1.330364\n",
      "Epoch: [6/10], step: [313/312], loss: 1.344118\n",
      "Test: epoch 6 loss: 1.3088003\n",
      "X: 7630-4064$\n",
      "Y: 3566$#\n",
      "O: 3400$^\n",
      "\n",
      "X: 1774-6663$\n",
      "Y: -4889$\n",
      "O: -4566$\n",
      "\n",
      "X: 1171-9215$\n",
      "Y: -8044$\n",
      "O: -7160$\n",
      "\n",
      "Train: epoch 7\n",
      "Epoch: [7/10], step: [1/312], loss: 1.331655\n",
      "Epoch: [7/10], step: [105/312], loss: 1.293296\n",
      "Epoch: [7/10], step: [209/312], loss: 1.320404\n",
      "Epoch: [7/10], step: [313/312], loss: 1.273955\n",
      "Test: epoch 7 loss: 1.2361125\n",
      "X: 5823-1656$\n",
      "Y: 4167$#\n",
      "O: 3903$^\n",
      "\n",
      "X: 8308+7335$\n",
      "Y: 15643$\n",
      "O: 15666$\n",
      "\n",
      "X: 8011+6739$\n",
      "Y: 14750$\n",
      "O: 14666$\n",
      "\n",
      "Train: epoch 8\n",
      "Epoch: [8/10], step: [1/312], loss: 1.299926\n",
      "Epoch: [8/10], step: [105/312], loss: 1.260228\n",
      "Epoch: [8/10], step: [209/312], loss: 1.265521\n",
      "Epoch: [8/10], step: [313/312], loss: 1.284141\n",
      "Test: epoch 8 loss: 1.251992\n",
      "X: 6462-9570$\n",
      "Y: -3108$\n",
      "O: -3015$\n",
      "\n",
      "X: 4144-9857$\n",
      "Y: -5713$\n",
      "O: -5199$\n",
      "\n",
      "X: 9663-5768$\n",
      "Y: 3895$#\n",
      "O: 3996$^\n",
      "\n",
      "Train: epoch 9\n",
      "Epoch: [9/10], step: [1/312], loss: 1.271615\n",
      "Epoch: [9/10], step: [105/312], loss: 1.256662\n",
      "Epoch: [9/10], step: [209/312], loss: 1.223496\n",
      "Epoch: [9/10], step: [313/312], loss: 1.221282\n",
      "Test: epoch 9 loss: 1.1858317\n",
      "X: 113+128$##\n",
      "Y: 241$##\n",
      "O: 124$^^\n",
      "\n",
      "X: 3556-5279$\n",
      "Y: -1723$\n",
      "O: -1537$\n",
      "\n",
      "X: 8479-2148$\n",
      "Y: 6331$#\n",
      "O: 6247$^\n",
      "\n",
      "Train: epoch 10\n",
      "Epoch: [10/10], step: [1/312], loss: 1.242286\n",
      "Epoch: [10/10], step: [105/312], loss: 1.232727\n",
      "Epoch: [10/10], step: [209/312], loss: 1.194166\n",
      "Epoch: [10/10], step: [313/312], loss: 1.204899\n",
      "Test: epoch 10 loss: 1.1691777\n",
      "X: 289+6897$#\n",
      "Y: 7186$#\n",
      "O: 7383$^\n",
      "\n",
      "X: 812-8383$#\n",
      "Y: -7571$\n",
      "O: -7633$\n",
      "\n",
      "X: 6679+3839$\n",
      "Y: 10518$\n",
      "O: 10363$\n",
      "\n",
      "\n",
      "...training finished.\n"
     ]
    }
   ],
   "source": [
    "train()"
   ]
  },
  {
   "cell_type": "code",
   "execution_count": 46,
   "metadata": {
    "scrolled": true
   },
   "outputs": [
    {
     "name": "stdout",
     "output_type": "stream",
     "text": [
      "Epoch: 1, MAE: 1534.249950, Invalid numbers: 0\n",
      "Epoch: 2, MAE: 567.971950, Invalid numbers: 0\n",
      "Epoch: 3, MAE: 330.493100, Invalid numbers: 0\n",
      "Epoch: 4, MAE: 265.557900, Invalid numbers: 0\n",
      "Epoch: 5, MAE: 229.466050, Invalid numbers: 0\n",
      "Epoch: 6, MAE: 254.319550, Invalid numbers: 0\n",
      "Epoch: 7, MAE: 152.374200, Invalid numbers: 0\n",
      "Epoch: 8, MAE: 162.365600, Invalid numbers: 0\n",
      "Epoch: 9, MAE: 108.383300, Invalid numbers: 0\n",
      "Epoch: 10, MAE: 97.739150, Invalid numbers: 0\n"
     ]
    }
   ],
   "source": [
    "print_mae()"
   ]
  },
  {
   "cell_type": "code",
   "execution_count": null,
   "metadata": {},
   "outputs": [],
   "source": []
  }
 ],
 "metadata": {
  "kernelspec": {
   "display_name": "Python [conda env:nlp]",
   "language": "python",
   "name": "conda-env-nlp-py"
  },
  "language_info": {
   "codemirror_mode": {
    "name": "ipython",
    "version": 3
   },
   "file_extension": ".py",
   "mimetype": "text/x-python",
   "name": "python",
   "nbconvert_exporter": "python",
   "pygments_lexer": "ipython3",
   "version": "3.6.5"
  }
 },
 "nbformat": 4,
 "nbformat_minor": 2
}
